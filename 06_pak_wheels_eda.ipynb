{
 "cells": [
  {
   "cell_type": "markdown",
   "metadata": {},
   "source": [
    "# `78,000 Second-hand sold cars EDA`"
   ]
  },
  {
   "cell_type": "markdown",
   "metadata": {},
   "source": [
    "### 1.0 About Author:\n",
    "- Project: Pak Wheel data\n",
    "- Author\n",
    "- code submission:\n",
    "- Author's contact info:\\\n",
    "\n",
    "[Email](amanullahmemon755@gmail.com)\\\n",
    "[Kaggle](amanullahmemon755@gmail.com)\\\n",
    "[Twitter](amanullahmemon755@gmail.com)\n"
   ]
  },
  {
   "cell_type": "markdown",
   "metadata": {},
   "source": [
    "### 2.0 About Dataset\n",
    "This data has been scraped from PakWheels, the most renowned second-hand Car Selling company's website. The data contains approximately more than 78,000 cars with 13 different features and price as target. The feature names are:\n",
    "\n",
    "- ad_ref: a unique ad referance\n",
    "- city: advertisement city (location where vehicle is sold)\n",
    "- assembly: imported or not (local)\n",
    "- body: body type of vehicle\n",
    "- make: manufacturer of vehicle\n",
    "- model: model variant of vehicle\n",
    "- year: year of production\n",
    "- engine_cc: engine volume of vehicle\n",
    "- transmission: Auto/Manual\n",
    "- fuel_type: petrol, diesel of hybrid\n",
    "- color: color of vehicle\n",
    "- registered: registration number city/province of vehicle\n",
    "- mileage: mileage in kms\n",
    "- price: price of vehicle in PKR"
   ]
  },
  {
   "cell_type": "markdown",
   "metadata": {},
   "source": [
    "### 2.1 Task\n",
    "Our primary objective is to perform an in-depth Exploratory Data Analysis (EDA) on the provided dataset. This analysis will lay the groundwork for subsequent Data Wrangling tasks, focusing on data cleaning and normalization. Throughout the coding phase, we will meticulously document our observations, ensuring a comprehensive understanding of the dataset. Our aim is to generate a detailed summary and draw meaningful conclusions based on our findings."
   ]
  },
  {
   "cell_type": "markdown",
   "metadata": {},
   "source": []
  },
  {
   "cell_type": "markdown",
   "metadata": {},
   "source": [
    "### 2.2 Objectives:\n",
    "The primary aim of this project is to conduct a thorough analysis of the dataset to identify significant insights. The ultimate goal is to project and emphasize buyers dynamics and demands to future buyers and car dealers."
   ]
  },
  {
   "cell_type": "markdown",
   "metadata": {},
   "source": [
    "### 2.3 Kernel version used:\n",
    "- pyhton 3.12.0"
   ]
  },
  {
   "cell_type": "markdown",
   "metadata": {},
   "source": [
    "#### We will use the following libraries:\n",
    "1. Pandas: Data manipulation and analysis library.\n",
    "2. Numpy: Numerical computing library.\n",
    "3. Matplotlib: Data visualization library.\n",
    "4. Seaborn: Statistical data visualization library.\n",
    "5. Scipy: To provide a comprehensive set of numerical algorithms and tools for scientific computing in Python."
   ]
  },
  {
   "cell_type": "code",
   "execution_count": 1,
   "metadata": {},
   "outputs": [],
   "source": [
    "import pandas as pd\n",
    "import numpy as np\n",
    "\n",
    "# visualization libraries\n",
    "import matplotlib.pyplot as plt\n",
    "import seaborn as sns\n",
    "%matplotlib inline\n",
    "\n",
    "# for scientific and statistical computing\n",
    "import scipy as sp"
   ]
  },
  {
   "cell_type": "markdown",
   "metadata": {},
   "source": []
  },
  {
   "cell_type": "markdown",
   "metadata": {},
   "source": [
    "#### 4.0 Data Loading, Exploration & Wrangling/Cleaning\n",
    "##### We will proceed as follow:\n",
    "\n",
    "##### 4.1 Load the csv file with the pandas\n",
    "##### 4.2 Creating the dataframe and understanding the data present in the dataset\n",
    "##### 4.3 Dealing with the missing data and the incorrect records"
   ]
  },
  {
   "cell_type": "code",
   "execution_count": 2,
   "metadata": {},
   "outputs": [],
   "source": [
    "# Loading of the data set\n",
    "df = pd.read_csv('./data/pakwheels_used_car_data_v02.csv')"
   ]
  },
  {
   "cell_type": "code",
   "execution_count": 3,
   "metadata": {},
   "outputs": [],
   "source": [
    "pd.set_option('display.max_columns', None)"
   ]
  },
  {
   "cell_type": "markdown",
   "metadata": {},
   "source": [
    "### 4.4 Get a sneak peek of your data\n",
    "With just a single line of code! Quickly view the top rows of your dataset to get a sense of what you're working with, without having to scroll through the entire file."
   ]
  },
  {
   "cell_type": "code",
   "execution_count": 4,
   "metadata": {},
   "outputs": [
    {
     "data": {
      "text/html": [
       "<div>\n",
       "<style scoped>\n",
       "    .dataframe tbody tr th:only-of-type {\n",
       "        vertical-align: middle;\n",
       "    }\n",
       "\n",
       "    .dataframe tbody tr th {\n",
       "        vertical-align: top;\n",
       "    }\n",
       "\n",
       "    .dataframe thead th {\n",
       "        text-align: right;\n",
       "    }\n",
       "</style>\n",
       "<table border=\"1\" class=\"dataframe\">\n",
       "  <thead>\n",
       "    <tr style=\"text-align: right;\">\n",
       "      <th></th>\n",
       "      <th>addref</th>\n",
       "      <th>city</th>\n",
       "      <th>assembly</th>\n",
       "      <th>body</th>\n",
       "      <th>make</th>\n",
       "      <th>model</th>\n",
       "      <th>year</th>\n",
       "      <th>engine</th>\n",
       "      <th>transmission</th>\n",
       "      <th>fuel</th>\n",
       "      <th>color</th>\n",
       "      <th>registered</th>\n",
       "      <th>mileage</th>\n",
       "      <th>price</th>\n",
       "    </tr>\n",
       "  </thead>\n",
       "  <tbody>\n",
       "    <tr>\n",
       "      <th>0</th>\n",
       "      <td>7943732</td>\n",
       "      <td>Peshawar</td>\n",
       "      <td>NaN</td>\n",
       "      <td>Sedan</td>\n",
       "      <td>Toyota</td>\n",
       "      <td>Corolla</td>\n",
       "      <td>2013.0</td>\n",
       "      <td>1300.0</td>\n",
       "      <td>Manual</td>\n",
       "      <td>Petrol</td>\n",
       "      <td>Silver Metallic</td>\n",
       "      <td>Lahore</td>\n",
       "      <td>145000</td>\n",
       "      <td>2870000.0</td>\n",
       "    </tr>\n",
       "    <tr>\n",
       "      <th>1</th>\n",
       "      <td>7730314</td>\n",
       "      <td>Lahore</td>\n",
       "      <td>NaN</td>\n",
       "      <td>Sedan</td>\n",
       "      <td>Honda</td>\n",
       "      <td>City</td>\n",
       "      <td>2000.0</td>\n",
       "      <td>1300.0</td>\n",
       "      <td>Manual</td>\n",
       "      <td>Petrol</td>\n",
       "      <td>Blue</td>\n",
       "      <td>Lahore</td>\n",
       "      <td>230000</td>\n",
       "      <td>995000.0</td>\n",
       "    </tr>\n",
       "    <tr>\n",
       "      <th>2</th>\n",
       "      <td>7943737</td>\n",
       "      <td>Lahore</td>\n",
       "      <td>NaN</td>\n",
       "      <td>Sedan</td>\n",
       "      <td>Toyota</td>\n",
       "      <td>Yaris</td>\n",
       "      <td>2021.0</td>\n",
       "      <td>1300.0</td>\n",
       "      <td>Manual</td>\n",
       "      <td>Petrol</td>\n",
       "      <td>Super White</td>\n",
       "      <td>Punjab</td>\n",
       "      <td>60500</td>\n",
       "      <td>3585000.0</td>\n",
       "    </tr>\n",
       "    <tr>\n",
       "      <th>3</th>\n",
       "      <td>7943733</td>\n",
       "      <td>Lahore</td>\n",
       "      <td>NaN</td>\n",
       "      <td>Hatchback</td>\n",
       "      <td>Suzuki</td>\n",
       "      <td>Swift</td>\n",
       "      <td>2017.0</td>\n",
       "      <td>1300.0</td>\n",
       "      <td>Manual</td>\n",
       "      <td>Petrol</td>\n",
       "      <td>Grey</td>\n",
       "      <td>Islamabad</td>\n",
       "      <td>87000</td>\n",
       "      <td>2250000.0</td>\n",
       "    </tr>\n",
       "    <tr>\n",
       "      <th>4</th>\n",
       "      <td>7923484</td>\n",
       "      <td>Lahore</td>\n",
       "      <td>NaN</td>\n",
       "      <td>Sedan</td>\n",
       "      <td>Honda</td>\n",
       "      <td>Civic</td>\n",
       "      <td>2017.0</td>\n",
       "      <td>1800.0</td>\n",
       "      <td>Automatic</td>\n",
       "      <td>Petrol</td>\n",
       "      <td>Grey</td>\n",
       "      <td>Lahore</td>\n",
       "      <td>86000</td>\n",
       "      <td>4850000.0</td>\n",
       "    </tr>\n",
       "  </tbody>\n",
       "</table>\n",
       "</div>"
      ],
      "text/plain": [
       "    addref      city assembly       body    make    model    year  engine  \\\n",
       "0  7943732  Peshawar      NaN      Sedan  Toyota  Corolla  2013.0  1300.0   \n",
       "1  7730314    Lahore      NaN      Sedan   Honda     City  2000.0  1300.0   \n",
       "2  7943737    Lahore      NaN      Sedan  Toyota    Yaris  2021.0  1300.0   \n",
       "3  7943733    Lahore      NaN  Hatchback  Suzuki    Swift  2017.0  1300.0   \n",
       "4  7923484    Lahore      NaN      Sedan   Honda    Civic  2017.0  1800.0   \n",
       "\n",
       "  transmission    fuel            color registered  mileage      price  \n",
       "0       Manual  Petrol  Silver Metallic     Lahore   145000  2870000.0  \n",
       "1       Manual  Petrol             Blue     Lahore   230000   995000.0  \n",
       "2       Manual  Petrol      Super White     Punjab    60500  3585000.0  \n",
       "3       Manual  Petrol             Grey  Islamabad    87000  2250000.0  \n",
       "4    Automatic  Petrol             Grey     Lahore    86000  4850000.0  "
      ]
     },
     "execution_count": 4,
     "metadata": {},
     "output_type": "execute_result"
    }
   ],
   "source": [
    "df.head()"
   ]
  },
  {
   "cell_type": "markdown",
   "metadata": {},
   "source": [
    "### 4.5 View the column names"
   ]
  },
  {
   "cell_type": "code",
   "execution_count": 5,
   "metadata": {},
   "outputs": [
    {
     "name": "stdout",
     "output_type": "stream",
     "text": [
      "['addref' 'city' 'assembly' 'body' 'make' 'model' 'year' 'engine'\n",
      " 'transmission' 'fuel' 'color' 'registered' 'mileage' 'price']\n"
     ]
    }
   ],
   "source": [
    "# View the column names, alternatively we can also use df.columns\n",
    "print(df.columns.values)"
   ]
  },
  {
   "cell_type": "markdown",
   "metadata": {},
   "source": [
    "### 4.6 View the shape of the dataset"
   ]
  },
  {
   "cell_type": "code",
   "execution_count": 6,
   "metadata": {},
   "outputs": [
    {
     "name": "stdout",
     "output_type": "stream",
     "text": [
      "The dataframe consists on 77878 rows and 14 columns\n"
     ]
    }
   ],
   "source": [
    "#view the shape of the data, number of rows & columns\n",
    "print(f\"The dataframe consists on {df.shape[0]} rows and {df.shape[1]} columns\")"
   ]
  },
  {
   "cell_type": "markdown",
   "metadata": {},
   "source": [
    "### Observation Set 1:\n",
    "Attributes(Columns) released following information:\n",
    "\n",
    "1. ad_ref: a unique ad referance\n",
    "\n",
    "2. city: advertisement city (location where vehicle is sold)\n",
    "\n",
    "3. assembly: imported or not (local)\n",
    "\n",
    "4. body: body type of vehicle\n",
    "\n",
    "5. make: manufacturer of vehicle\n",
    "\n",
    "6. model: model variant of vehicle\n",
    "\n",
    "7. year: year of production\n",
    "\n",
    "8. engine_cc: engine volume of vehicle\n",
    "\n",
    "9. transmission: Auto/Manual\n",
    "\n",
    "10. fuel_type: petrol, diesel of hybrid\n",
    "\n",
    "11. color: color of vehicle\n",
    "\n",
    "12. registered: registration number city/province of vehicle\n",
    "\n",
    "13. mileage: mileage in kms\n",
    "\n",
    "14. price: price of vehicle in PKR"
   ]
  },
  {
   "cell_type": "markdown",
   "metadata": {},
   "source": [
    "### 4.6 Quick understanding of dataframe structure by `info()` function"
   ]
  },
  {
   "cell_type": "code",
   "execution_count": 7,
   "metadata": {},
   "outputs": [
    {
     "name": "stdout",
     "output_type": "stream",
     "text": [
      "<class 'pandas.core.frame.DataFrame'>\n",
      "RangeIndex: 77878 entries, 0 to 77877\n",
      "Data columns (total 14 columns):\n",
      " #   Column        Non-Null Count  Dtype  \n",
      "---  ------        --------------  -----  \n",
      " 0   addref        77878 non-null  int64  \n",
      " 1   city          77878 non-null  object \n",
      " 2   assembly      24189 non-null  object \n",
      " 3   body          68974 non-null  object \n",
      " 4   make          77878 non-null  object \n",
      " 5   model         77878 non-null  object \n",
      " 6   year          73099 non-null  float64\n",
      " 7   engine        77877 non-null  float64\n",
      " 8   transmission  77878 non-null  object \n",
      " 9   fuel          76972 non-null  object \n",
      " 10  color         76398 non-null  object \n",
      " 11  registered    77878 non-null  object \n",
      " 12  mileage       77878 non-null  int64  \n",
      " 13  price         77295 non-null  float64\n",
      "dtypes: float64(3), int64(2), object(9)\n",
      "memory usage: 8.3+ MB\n"
     ]
    }
   ],
   "source": [
    "df.info()"
   ]
  },
  {
   "cell_type": "markdown",
   "metadata": {},
   "source": [
    "### 4.8 Descriptive Statistics\n",
    "We use descriptive statistics to summarize and understand the key features of dataset."
   ]
  },
  {
   "cell_type": "code",
   "execution_count": 8,
   "metadata": {},
   "outputs": [
    {
     "data": {
      "text/html": [
       "<div>\n",
       "<style scoped>\n",
       "    .dataframe tbody tr th:only-of-type {\n",
       "        vertical-align: middle;\n",
       "    }\n",
       "\n",
       "    .dataframe tbody tr th {\n",
       "        vertical-align: top;\n",
       "    }\n",
       "\n",
       "    .dataframe thead th {\n",
       "        text-align: right;\n",
       "    }\n",
       "</style>\n",
       "<table border=\"1\" class=\"dataframe\">\n",
       "  <thead>\n",
       "    <tr style=\"text-align: right;\">\n",
       "      <th></th>\n",
       "      <th>count</th>\n",
       "      <th>mean</th>\n",
       "      <th>std</th>\n",
       "      <th>min</th>\n",
       "      <th>25%</th>\n",
       "      <th>50%</th>\n",
       "      <th>75%</th>\n",
       "      <th>max</th>\n",
       "    </tr>\n",
       "  </thead>\n",
       "  <tbody>\n",
       "    <tr>\n",
       "      <th>addref</th>\n",
       "      <td>77878.0</td>\n",
       "      <td>7.809878e+06</td>\n",
       "      <td>2.599523e+05</td>\n",
       "      <td>274897.0</td>\n",
       "      <td>7805759.75</td>\n",
       "      <td>7865805.0</td>\n",
       "      <td>7910333.75</td>\n",
       "      <td>7943741.0</td>\n",
       "    </tr>\n",
       "    <tr>\n",
       "      <th>year</th>\n",
       "      <td>73099.0</td>\n",
       "      <td>2.012813e+03</td>\n",
       "      <td>7.516685e+00</td>\n",
       "      <td>1990.0</td>\n",
       "      <td>2007.00</td>\n",
       "      <td>2015.0</td>\n",
       "      <td>2019.00</td>\n",
       "      <td>2022.0</td>\n",
       "    </tr>\n",
       "    <tr>\n",
       "      <th>engine</th>\n",
       "      <td>77877.0</td>\n",
       "      <td>1.408062e+03</td>\n",
       "      <td>7.044540e+02</td>\n",
       "      <td>3.0</td>\n",
       "      <td>1000.00</td>\n",
       "      <td>1300.0</td>\n",
       "      <td>1600.00</td>\n",
       "      <td>15000.0</td>\n",
       "    </tr>\n",
       "    <tr>\n",
       "      <th>mileage</th>\n",
       "      <td>77878.0</td>\n",
       "      <td>9.110919e+04</td>\n",
       "      <td>8.927534e+04</td>\n",
       "      <td>1.0</td>\n",
       "      <td>34000.00</td>\n",
       "      <td>80000.0</td>\n",
       "      <td>123456.00</td>\n",
       "      <td>1000000.0</td>\n",
       "    </tr>\n",
       "    <tr>\n",
       "      <th>price</th>\n",
       "      <td>77295.0</td>\n",
       "      <td>3.883232e+06</td>\n",
       "      <td>5.759480e+06</td>\n",
       "      <td>110000.0</td>\n",
       "      <td>1450000.00</td>\n",
       "      <td>2700000.0</td>\n",
       "      <td>4500000.00</td>\n",
       "      <td>529000000.0</td>\n",
       "    </tr>\n",
       "  </tbody>\n",
       "</table>\n",
       "</div>"
      ],
      "text/plain": [
       "           count          mean           std       min         25%        50%  \\\n",
       "addref   77878.0  7.809878e+06  2.599523e+05  274897.0  7805759.75  7865805.0   \n",
       "year     73099.0  2.012813e+03  7.516685e+00    1990.0     2007.00     2015.0   \n",
       "engine   77877.0  1.408062e+03  7.044540e+02       3.0     1000.00     1300.0   \n",
       "mileage  77878.0  9.110919e+04  8.927534e+04       1.0    34000.00    80000.0   \n",
       "price    77295.0  3.883232e+06  5.759480e+06  110000.0  1450000.00  2700000.0   \n",
       "\n",
       "                75%          max  \n",
       "addref   7910333.75    7943741.0  \n",
       "year        2019.00       2022.0  \n",
       "engine      1600.00      15000.0  \n",
       "mileage   123456.00    1000000.0  \n",
       "price    4500000.00  529000000.0  "
      ]
     },
     "execution_count": 8,
     "metadata": {},
     "output_type": "execute_result"
    }
   ],
   "source": [
    "df.describe().T"
   ]
  },
  {
   "cell_type": "markdown",
   "metadata": {},
   "source": [
    "### Observation set 2:\n",
    "1. We have 5 numeric columns and it has been observed the `'addref'` attribute is useless for our EDA\n",
    "2. Hence it's dropped from dataframe to make EDA more smooth and easy"
   ]
  },
  {
   "cell_type": "markdown",
   "metadata": {},
   "source": [
    "####"
   ]
  },
  {
   "cell_type": "code",
   "execution_count": 9,
   "metadata": {},
   "outputs": [
    {
     "name": "stdout",
     "output_type": "stream",
     "text": [
      "<class 'pandas.core.frame.DataFrame'>\n",
      "RangeIndex: 77878 entries, 0 to 77877\n",
      "Data columns (total 13 columns):\n",
      " #   Column        Non-Null Count  Dtype  \n",
      "---  ------        --------------  -----  \n",
      " 0   city          77878 non-null  object \n",
      " 1   assembly      24189 non-null  object \n",
      " 2   body          68974 non-null  object \n",
      " 3   make          77878 non-null  object \n",
      " 4   model         77878 non-null  object \n",
      " 5   year          73099 non-null  float64\n",
      " 6   engine        77877 non-null  float64\n",
      " 7   transmission  77878 non-null  object \n",
      " 8   fuel          76972 non-null  object \n",
      " 9   color         76398 non-null  object \n",
      " 10  registered    77878 non-null  object \n",
      " 11  mileage       77878 non-null  int64  \n",
      " 12  price         77295 non-null  float64\n",
      "dtypes: float64(3), int64(1), object(9)\n",
      "memory usage: 7.7+ MB\n"
     ]
    }
   ],
   "source": [
    "df.drop('addref', axis=1, inplace=True)\n",
    "df.info()"
   ]
  },
  {
   "cell_type": "markdown",
   "metadata": {},
   "source": [
    "### 4.9 Missing values in the Data"
   ]
  },
  {
   "cell_type": "code",
   "execution_count": 10,
   "metadata": {},
   "outputs": [
    {
     "data": {
      "text/plain": [
       "assembly        53689\n",
       "body             8904\n",
       "year             4779\n",
       "color            1480\n",
       "fuel              906\n",
       "price             583\n",
       "engine              1\n",
       "city                0\n",
       "make                0\n",
       "model               0\n",
       "transmission        0\n",
       "registered          0\n",
       "mileage             0\n",
       "dtype: int64"
      ]
     },
     "execution_count": 10,
     "metadata": {},
     "output_type": "execute_result"
    }
   ],
   "source": [
    "df.isnull().sum().sort_values(ascending = False)"
   ]
  },
  {
   "cell_type": "markdown",
   "metadata": {},
   "source": [
    "### 5.0 Exploratory Analsis and Visualization"
   ]
  },
  {
   "cell_type": "code",
   "execution_count": 11,
   "metadata": {},
   "outputs": [
    {
     "data": {
      "text/plain": [
       "Text(0.5, 1.0, 'Missing null values')"
      ]
     },
     "execution_count": 11,
     "metadata": {},
     "output_type": "execute_result"
    },
    {
     "data": {
      "image/png": "[encoded data removed]",
      "text/plain": [
       "<Figure size 1500x600 with 1 Axes>"
      ]
     },
     "metadata": {},
     "output_type": "display_data"
    }
   ],
   "source": [
    "plt.rcParams['figure.figsize'] = (15,6)\n",
    "sns.heatmap(df.isnull(),yticklabels = False, cbar = False , cmap = 'viridis')\n",
    "plt.title(\"Missing null values\")"
   ]
  },
  {
   "cell_type": "markdown",
   "metadata": {},
   "source": [
    "***Figure-1:*** Provide us the visual on the missing values in a dataframe 'df'"
   ]
  },
  {
   "cell_type": "markdown",
   "metadata": {},
   "source": [
    "Get a clearer picture of missing data with this nifty code snippet! See the percentage of null values in your dataset sorted in ascending order, making it easy to identify which features have the most missing data.¶"
   ]
  },
  {
   "cell_type": "code",
   "execution_count": 12,
   "metadata": {},
   "outputs": [
    {
     "data": {
      "text/plain": [
       "assembly        68.939880\n",
       "body            11.433267\n",
       "year             6.136521\n",
       "color            1.900408\n",
       "fuel             1.163358\n",
       "price            0.748607\n",
       "engine           0.001284\n",
       "city             0.000000\n",
       "make             0.000000\n",
       "model            0.000000\n",
       "transmission     0.000000\n",
       "registered       0.000000\n",
       "mileage          0.000000\n",
       "dtype: float64"
      ]
     },
     "execution_count": 12,
     "metadata": {},
     "output_type": "execute_result"
    }
   ],
   "source": [
    "df.isnull().sum()/len(df)*100\n",
    "missing_percentage = (df.isnull().sum().sort_values(ascending = False)/len(df))*100\n",
    "missing_percentage"
   ]
  },
  {
   "cell_type": "markdown",
   "metadata": {},
   "source": [
    "### 5.1 Graphical Representation:\n",
    "We will generate a graphical representation of the percentage of null values by plotting the data using an appropriate charting technique.¶"
   ]
  },
  {
   "cell_type": "code",
   "execution_count": 13,
   "metadata": {},
   "outputs": [
    {
     "data": {
      "text/plain": [
       "Text(0.5, 1.0, 'Percentage of null values')"
      ]
     },
     "execution_count": 13,
     "metadata": {},
     "output_type": "execute_result"
    },
    {
     "data": {
      "image/png": "[encoded data removed]",
      "text/plain": [
       "<Figure size 2000x600 with 1 Axes>"
      ]
     },
     "metadata": {},
     "output_type": "display_data"
    }
   ],
   "source": [
    "missing_percentage = missing_percentage[missing_percentage != 0] # Only the missing data\n",
    "plt.rcParams['figure.figsize'] = (20,6)\n",
    "missing_percentage.plot(kind = 'barh')\n",
    "plt.title(\"Percentage of null values\")"
   ]
  },
  {
   "cell_type": "markdown",
   "metadata": {},
   "source": [
    "***Figure-2:*** It is obvious image that highest missing values has 'assembly' column and the 'engine' has lowest missing values"
   ]
  },
  {
   "cell_type": "markdown",
   "metadata": {},
   "source": [
    "### Observation Set 3:\n",
    "#### Dealing with null values:\n",
    "\n",
    "1. The 'Fuel' and 'color' are two of the lowest values in datafram those can be impute by `mode`\n",
    "2. The 'Price' and 'engine are also the lowest attribute is 'price in data that we'll impute by the place holders\n",
    "3. Other three attributes are important but they have wide range Nan values that will be also changed by place holders\n",
    "    "
   ]
  },
  {
   "cell_type": "code",
   "execution_count": 14,
   "metadata": {},
   "outputs": [],
   "source": [
    "# Missing values dealing\n",
    "# filling mode value of fuel and color columns in the null places of that columns\n",
    "df['fuel'].fillna(df['fuel'].mode()[0], inplace=True)\n",
    "df['color'].fillna(df['color'].mode()[0], inplace=True)"
   ]
  },
  {
   "cell_type": "code",
   "execution_count": 15,
   "metadata": {},
   "outputs": [
    {
     "data": {
      "text/plain": [
       "assembly        53689\n",
       "body             8904\n",
       "year             4779\n",
       "price             583\n",
       "engine              1\n",
       "city                0\n",
       "make                0\n",
       "model               0\n",
       "transmission        0\n",
       "fuel                0\n",
       "color               0\n",
       "registered          0\n",
       "mileage             0\n",
       "dtype: int64"
      ]
     },
     "execution_count": 15,
     "metadata": {},
     "output_type": "execute_result"
    }
   ],
   "source": [
    "# have a view of refreshed dataset again\n",
    "df.isnull().sum().sort_values(ascending = False)"
   ]
  },
  {
   "cell_type": "code",
   "execution_count": 16,
   "metadata": {},
   "outputs": [
    {
     "data": {
      "text/plain": [
       "assembly        68.939880\n",
       "body            11.433267\n",
       "year             6.136521\n",
       "price            0.748607\n",
       "engine           0.001284\n",
       "city             0.000000\n",
       "make             0.000000\n",
       "model            0.000000\n",
       "transmission     0.000000\n",
       "fuel             0.000000\n",
       "color            0.000000\n",
       "registered       0.000000\n",
       "mileage          0.000000\n",
       "dtype: float64"
      ]
     },
     "execution_count": 16,
     "metadata": {},
     "output_type": "execute_result"
    }
   ],
   "source": [
    "df.isnull().sum()/len(df)*100\n",
    "missing_percentage = (df.isnull().sum().sort_values(ascending = False)/len(df))*100\n",
    "missing_percentage"
   ]
  },
  {
   "cell_type": "code",
   "execution_count": 17,
   "metadata": {},
   "outputs": [],
   "source": [
    "# dropping or removing an observation/row from engine column\n",
    "df = df[df['engine'].notna()]"
   ]
  },
  {
   "cell_type": "code",
   "execution_count": 18,
   "metadata": {},
   "outputs": [],
   "source": [
    "# imputing null values of prize column by place holder\n",
    "df['price'].fillna(0.0, inplace=True)"
   ]
  },
  {
   "cell_type": "code",
   "execution_count": 19,
   "metadata": {},
   "outputs": [
    {
     "name": "stderr",
     "output_type": "stream",
     "text": [
      "C:\\Users\\Lenovo x260\\AppData\\Local\\Temp\\ipykernel_12704\\2825008281.py:6: FutureWarning: Setting an item of incompatible dtype is deprecated and will raise in a future error of pandas. Value 'nan' has dtype incompatible with float64, please explicitly cast to a compatible dtype first.\n",
      "  df['year'].fillna('nan', inplace=True)\n"
     ]
    }
   ],
   "source": [
    "# imputing null values of body, assembly and year columns by place holder\n",
    "df['body'].fillna('unknown', inplace=True)\n",
    "# imputing null values of assembly column by place holder\n",
    "df['assembly'].fillna('nan', inplace=True)\n",
    "# imputing null values of year column by place holder\n",
    "df['year'].fillna('nan', inplace=True)"
   ]
  },
  {
   "cell_type": "code",
   "execution_count": 20,
   "metadata": {},
   "outputs": [
    {
     "data": {
      "text/plain": [
       "city            0\n",
       "assembly        0\n",
       "body            0\n",
       "make            0\n",
       "model           0\n",
       "year            0\n",
       "engine          0\n",
       "transmission    0\n",
       "fuel            0\n",
       "color           0\n",
       "registered      0\n",
       "mileage         0\n",
       "price           0\n",
       "dtype: int64"
      ]
     },
     "execution_count": 20,
     "metadata": {},
     "output_type": "execute_result"
    }
   ],
   "source": [
    "# have a view of refreshed dataset again\n",
    "df.isnull().sum().sort_values(ascending = False)"
   ]
  },
  {
   "cell_type": "markdown",
   "metadata": {},
   "source": [
    "**Milestone 1: We have cleaned the dataset from null values 🙂**"
   ]
  },
  {
   "cell_type": "markdown",
   "metadata": {},
   "source": [
    "### 5.2 Now exploring Numeric and categorical  columns/attributes of the dataset namely:"
   ]
  },
  {
   "cell_type": "code",
   "execution_count": 21,
   "metadata": {},
   "outputs": [
    {
     "data": {
      "text/plain": [
       "Index(['city', 'assembly', 'body', 'make', 'model', 'year', 'engine',\n",
       "       'transmission', 'fuel', 'color', 'registered', 'mileage', 'price'],\n",
       "      dtype='object')"
      ]
     },
     "execution_count": 21,
     "metadata": {},
     "output_type": "execute_result"
    }
   ],
   "source": [
    "df.columns"
   ]
  },
  {
   "cell_type": "code",
   "execution_count": 22,
   "metadata": {},
   "outputs": [
    {
     "data": {
      "text/plain": [
       "array(['Peshawar', 'Lahore', 'Vehari', 'Islamabad', 'Faisalabad',\n",
       "       'Sialkot', 'Mansehra', 'Gujranwala', 'Kasur', 'Bahawalnagar',\n",
       "       'Karachi', 'Rawalpindi', 'Quetta', 'Mardan', 'Pindi', 'Gujrat',\n",
       "       'Charsadda', 'Hyderabad', 'Multan', 'Chichawatni', 'Kohat',\n",
       "       'Chakwal', 'Abbottabad', 'Hafizabad', 'Nowshera', 'Okara',\n",
       "       'Sadiqabad', 'Wah', 'Haripur', 'D.G.Khan', 'Sargodha', 'Dadyal',\n",
       "       'Jaranwala', 'Kharian', 'Haroonabad', 'Depal', 'Sahiwal', 'Swabi',\n",
       "       'Muzaffar', 'Jhang', 'Bahawalpur', 'Daharki', 'Jalalpur', 'Rahim',\n",
       "       'Wazirabad', 'Dina', 'Chashma', 'Gojra', 'Jhelum', 'Chishtian',\n",
       "       'Mandi', 'Kotli', 'Arifwala', 'Mingora', 'Mirpur', 'Khushab',\n",
       "       'Lakki', 'Gujar', 'Mian', 'Hasilpur', 'Hayatabad', 'Attock',\n",
       "       'Taxila', 'Ranipur', 'Dera', 'Bhalwal', 'Shorkot', 'Renala',\n",
       "       'Abdul', 'Toba', 'Rajana', 'Bhakkar', 'Tando', 'Nawabshah',\n",
       "       'Phalia', 'Khairpur', 'Dargai', 'Bhera', 'Sheikhupura', 'Head',\n",
       "       'Sambrial', 'Muzaffarabad', 'Talagang', 'Layyah', 'Swatmingora',\n",
       "       'Burewala', 'Mamu', 'Sukkur', 'Shakargarh', 'More', 'Pattoki',\n",
       "       'Sohawa', 'Zafarwal', 'Satiana', 'Fort', 'Adda', 'Chowk', 'Akora',\n",
       "       'Dinga', 'Larkana', 'Takhtbai', 'Kabirwala', 'Khanewal', 'Nankana',\n",
       "       'Kamoke', 'Lodhran', 'Thatta', 'Daska', 'Topi', 'Chiniot', 'Swat',\n",
       "       'Narowal', 'Khanpur', 'Fateh', 'Jatlaan', 'Lala', 'Bannu', 'Sarai',\n",
       "       'Murree', 'Kotri', 'Sara-E-Alamgir', 'Muridke', 'Kallar', 'Bat',\n",
       "       'Shikar', 'Kandiaro', 'Karoor', 'Kunjah', 'Risalpur', 'Kot',\n",
       "       'Shah', 'Pak', 'Phool', 'Zahir', 'Kandh', 'Liaqat', 'Kahuta',\n",
       "       'Raiwind', 'Yazman', 'Farooqabad', 'Allahabad', 'Rahwali',\n",
       "       'Karore', 'Ghotki', 'Hangu', 'Jampur', 'Chawinda', 'Tarbela',\n",
       "       'Rawat', 'Pir', 'Kashmir', 'Shahdara', 'Chaksawari', 'Jehangira',\n",
       "       'Lower', 'Mehrabpur', 'Bhimber', 'Karak', 'Kotla', 'Jand',\n",
       "       'Jauharabad', 'Mangla', 'Sumandari', 'Chunian', 'Daulatpur',\n",
       "       'Ahmed', 'Pind', 'Alipur', 'Gaggo', 'Melsi', 'Tandiliyawala',\n",
       "       'Gwadar', 'Rawalakot', 'Hassan', 'Kamalia', 'Jacobabad', 'Chenab',\n",
       "       'Garh', 'Taunsa', 'Pasrur', 'Kamra', 'Tibba', 'Rajanpur',\n",
       "       'Jamshoro', 'Jatoi', 'Pano', 'Pishin', 'Doltala', 'Morgah',\n",
       "       'Minchanabad', 'Skardu', 'Ghazi', 'Malakwal', 'Hub-Balochistan',\n",
       "       'Balakot', 'Sillanwali', 'Kala', 'Sanghar', 'Dadu', 'Hazro',\n",
       "       'Qila', 'New', 'Kamber', 'Shuja', 'Esa', 'Dir', 'Jahaniya', 'Umer',\n",
       "       'Gambat', 'Quaid', 'Sangla', 'Sikandarabad', 'Malakand',\n",
       "       'Kashmore', 'Havali', 'Mandra', 'Chaklala', 'Khudian', 'Dunia',\n",
       "       'Gilgit', 'Saidu', 'Buner', 'Ugoke', 'Harappa', 'Chak',\n",
       "       'Samanabad', 'Bhan', 'Jhand', 'Toru', 'Sehwan', 'Gharo', 'Other',\n",
       "       'Faqirwali', 'Tank', 'Sara', 'Mithi', 'Badin', 'Khurrianwala',\n",
       "       'Hawilian', 'Narang', 'Hujra', 'Chowha', 'Jamrud', 'Jandanwala',\n",
       "       'Buchay', 'Dijkot', 'Kallur', 'Khangarh', 'Darya', 'Kumbh',\n",
       "       'Digri', 'Kunri', 'Hala', 'Matli', 'Naukot', 'Chitral', 'Hattar',\n",
       "       'Khan', 'Shahdad', 'Naseerabad', 'Manga', 'Iskandarabad', 'Bhai',\n",
       "       'Basirpur', 'Khanqah', 'Piplan', 'Hattian', 'Wahn', 'Qasba',\n",
       "       'Khuzdar', 'Nilore', 'Laliah', 'Qazi', 'Gakhar', 'Ubauro',\n",
       "       'Lasbela', 'Shahpur', 'Amangarh', 'Domeli', 'Kacha', 'Shahdadpur',\n",
       "       'Noshero', 'Khandabad', 'Guddu', 'Benz', 'Sibi', 'Klaske',\n",
       "       'Bhuawana', 'Ali', 'Khewra', 'Noudero', 'Moro', 'Qalandarabad',\n",
       "       'Gadoon', 'Donga', 'Shamsabad', 'Khyber'], dtype=object)"
      ]
     },
     "execution_count": 22,
     "metadata": {},
     "output_type": "execute_result"
    }
   ],
   "source": [
    "df['city'].unique()\n"
   ]
  },
  {
   "cell_type": "code",
   "execution_count": 23,
   "metadata": {},
   "outputs": [
    {
     "data": {
      "text/plain": [
       "array(['Sedan', 'Hatchback', 'SUV', 'MPV', 'unknown', 'Crossover',\n",
       "       'Micro Van', 'Mini Van', 'Double Cabin', 'Compact sedan',\n",
       "       'High Roof', 'Van', 'Compact SUV', 'Pick Up', 'Coupe',\n",
       "       'Station Wagon', 'Convertible', 'Truck', 'Off-Road Vehicles',\n",
       "       'Mini Vehicles', 'Single Cabin', 'Compact hatchback'], dtype=object)"
      ]
     },
     "execution_count": 23,
     "metadata": {},
     "output_type": "execute_result"
    }
   ],
   "source": [
    "df['body'].unique()"
   ]
  },
  {
   "cell_type": "code",
   "execution_count": 24,
   "metadata": {},
   "outputs": [
    {
     "data": {
      "text/plain": [
       "array(['Toyota', 'Honda', 'Suzuki', 'Daihatsu', 'Mitsubishi', 'Hyundai',\n",
       "       'KIA', 'Nissan', 'Adam', 'Mazda', 'Lexus', 'Mercedes', 'BMW',\n",
       "       'Changan', 'DFSK', 'FAW', 'Proton', 'Haval', 'MG', 'Volkswagen',\n",
       "       'Range', 'Audi', 'Land', 'Peugeot', 'United', 'Subaru', 'Jeep',\n",
       "       'Tesla', 'Chevrolet', 'Prince', 'Chery', 'Porsche', 'GMC',\n",
       "       'Daewoo', 'MINI', 'Datsun', 'Ford', 'Dodge', 'Volvo', 'BAIC',\n",
       "       'Bentley', 'Jaguar', 'Cadillac', 'Chrysler', 'Hino', 'Isuzu',\n",
       "       'Fiat', 'Willys', 'Sogo', 'Power', 'SsangYong', 'Daehan', 'JAC',\n",
       "       'JW', 'GAC', 'Austin', 'Opel', 'ZOTYE', 'Master', 'Genesis',\n",
       "       'Others', 'Buick', 'Mushtaq', 'Hummer', 'JMC', 'Roma', 'Classic',\n",
       "       'Rinco'], dtype=object)"
      ]
     },
     "execution_count": 24,
     "metadata": {},
     "output_type": "execute_result"
    }
   ],
   "source": [
    "df['make'].unique()"
   ]
  },
  {
   "cell_type": "code",
   "execution_count": 25,
   "metadata": {},
   "outputs": [
    {
     "data": {
      "text/plain": [
       "array(['Corolla', 'City', 'Yaris', 'Swift', 'Civic', 'Move', 'Mehran',\n",
       "       'Mira', 'Pajero', 'Cultus', 'Vitz', 'Alto', 'Land', 'BR-V',\n",
       "       'Tucson', 'Passo', 'C-HR', 'Hustler', 'Sportage', 'Liana', 'Aqua',\n",
       "       'Baleno', 'Dayz', 'Belta', 'Vezel', 'Every', 'Raize', 'Hijet',\n",
       "       'Prado', 'Elantra', 'Hilux', 'Fortuner', 'Revo', 'Carol', 'Sunny',\n",
       "       'N', 'RX', 'Wagon', 'Benz', 'Bolan', 'Picanto', '6', 'Roomy',\n",
       "       'Prius', 'Hiace', 'Cuore', '3', 'Karvaan', 'Charade', 'Alsvin',\n",
       "       'Glory', 'Accord', 'Freed', 'X-PV', 'Otti', 'Duet', 'Corona',\n",
       "       'X70', 'FX', 'H6', 'Saga', 'Grand', 'HS', 'Up', 'Sonata', 'Oshan',\n",
       "       'Clipper', 'Premio', 'Rover', 'Tundra', 'Sorento', 'Atrai',\n",
       "       'Santro', 'Flair', 'RX8', 'A3', 'Esse', 'Vitara', '2008', 'ZS',\n",
       "       '5', 'Aygo', 'Bravo', 'Pleo', 'Fit', 'Life', 'Cross', 'Khyber',\n",
       "       'Terios', 'Roox', 'Tanto', 'Santa', 'Stonic', 'HR-V', 'Sienta',\n",
       "       'AD', 'A5', 'X5', 'Mark', 'Lancer', 'Wrangler', 'Ek', 'Model',\n",
       "       'Celerio', 'Copen', 'Rush', 'Note', 'Zest', 'LX', 'Crown', 'Surf',\n",
       "       'Cast', 'Spark', 'X1', 'CR-Z', 'Pearl', 'Q2', 'A4', 'Potohar',\n",
       "       'Jolion', 'Camry', 'Rav4', 'V2', 'Tiggo', 'Kicks', 'Allion',\n",
       "       'Lite', 'Cayenne', 'Joy', 'Moco', 'Grace', 'Airwave', 'A6',\n",
       "       'Pixis', 'Sierra', 'Boon', 'Ciaz', 'March', 'Thor', 'R2', 'Excel',\n",
       "       'Avensis', 'Wish', 'Margalla', 'Platz', 'Jimny', 'Racer', 'Stream',\n",
       "       'Insight', 'Coupe', 'Q7', 'Cooper', '120', 'EK', 'Optra', 'Porte',\n",
       "       'Fj', 'Cherokee', 'Cami', 'Ravi', 'Tank', 'Town', 'Mirage', '7',\n",
       "       'QQ', 'IST', 'Succeed', 'Mustang', '86', 'Xbee', 'Classic',\n",
       "       'Harrier', 'Juke', 'Qashqai', 'Carry', 'ISIS', 'Voxy', 'Wake',\n",
       "       'Navara', 'MR', 'Alphard', 'Kizashi', 'Challenger', 'Carrier',\n",
       "       'Other', 'K07', 'Probox', 'Starlet', 'Leaf', 'Minica', 'BJ40',\n",
       "       'CR-V', 'Equinox', 'CJ', 'Acty', 'M', 'Forester', 'Shehzore',\n",
       "       'Kei', 'Cervo', 'Noah', 'MX', 'Jade', 'i4', 'Tacoma', 'Exclusive',\n",
       "       'Esquire', 'Boxster', 'e-tron', 'CT200h', 'Avanza', 'Alpha',\n",
       "       'Taft', 'R1', 'Taycan', 'Galant', 'Continental', 'Stella', 'Spike',\n",
       "       'Panamera', 'Spacia', 'Inspire', 'Aveo', '350Z', 'Titan', 'Auris',\n",
       "       'Seres', 'A1', 'Patrol', 'Pino', 'Wingroad', 'Sakura', 'Xenia',\n",
       "       'Estima', 'Beetle', 'Serena', 'Coaster', 'S660', 'S', 'MR2',\n",
       "       'Cefiro', 'F', 'Spectra', 'A8', 'Thats', 'Kalash', 'LS', 'X',\n",
       "       'Lucida', 'Bluebird', 'Samurai', 'Cts', '300', 'Ram', 'iQ', 'L200',\n",
       "       'Verisa', 'APV', 'Rocky', 'NKR', 'Vamos', 'UX', 'Rvr', 'Ractis',\n",
       "       'Brio', 'Palette', 'Kona', 'Skyline', 'H-100', 'Cressida', 'D-Max',\n",
       "       'Uno', 'Terracan', 'Q3', 'Sprinter', 'Solio', 'Scrum', 'S5', 'X2',\n",
       "       'M38', 'Pickup', 'X7', '500', 'I', 'Pulsar', 'Coo', 'Dias', 'i7',\n",
       "       'Bongo', 'Tiida', 'Silverado', 'Avalon', 'Brz', 'Cx3', 'Axela',\n",
       "       'Cedric', 'Cappuccino', 'K01', 'Z', 'Ignis', 'Golf', 'Mini', 'iX',\n",
       "       'Bezza', 'Sx4', 'Minicab', 'Pride', '2', 'TT', 'Carina', 'Mega',\n",
       "       'Kaghan', 'Nv350', 'Chitral', 'Stavic', 'Staria', 'Trooper',\n",
       "       'Fiesta', 'Will', 'Charmant', 'B', 'GS', 'X200', 'Sirius',\n",
       "       'Hongqi', 'M9', 'Cielo', 'Xjs', 'T6', 'Sj410', 'Gen', 'Altezza',\n",
       "       'Kix', 'Polo', 'Toppo', 'N-Van', 'Safari', 'Storia', 'Forland',\n",
       "       'Corvette', 'Grandis', 'Concerto', 'Rexton', 'Q5', 'Blue', 'Cj',\n",
       "       'Primera', 'GS3', 'iX3', 'Rio', 'Celica', 'Raum', 'Cerato',\n",
       "       'Gladiator', 'Suburban', 'Corsa', '206', 'Today', 'Cruze', 'Z100',\n",
       "       'Mobilio', 'Beat', 'Celsior', 'Z3', 'Bt', 'Impreza', 'Foton',\n",
       "       '323', 'Gilgit', 'Sonica', 'GV60', 'Sirion', '626', 'Integra',\n",
       "       'Feroza', 'Cx7', 'A7', 'Nx', 'Chaser', 'Niro', 'X3', 'Amarok',\n",
       "       'XL7', 'Caravan', 'L300', '1000', 'Accent', 'Shahbaz', 'Ranger',\n",
       "       'Cr', 'Double', 'XF', 'Azwagon', 'Escalade', 'Roadmaster', 'B2200',\n",
       "       'Sambar', 'C37', 'Z4', 'Chairman', 'CX70T', 'M8', '1200', 'UNI-T',\n",
       "       'KY10', 'Senova', 'Colorado', 'A800', 'Frontier', 'Sentra', 'FUSO',\n",
       "       'i8', '370Z', 'Transit', 'Mulsanne', 'H2', 'CS35', 'Bj212', 'V40',\n",
       "       'Vigus', 'Family', 'Matiz', 'Ioniq', 'Cherry', 'Bego', 'H3',\n",
       "       'Cars', 'Cube', 'Rekord', 'Aria', 'Jiaxing', '1', '1300', 'New',\n",
       "       'Sc'], dtype=object)"
      ]
     },
     "execution_count": 25,
     "metadata": {},
     "output_type": "execute_result"
    }
   ],
   "source": [
    "df['model'].unique()"
   ]
  },
  {
   "cell_type": "code",
   "execution_count": 26,
   "metadata": {},
   "outputs": [
    {
     "data": {
      "text/plain": [
       "array([2013.0, 2000.0, 2021.0, 2017.0, 2010.0, 2019.0, 2018.0, 2014.0,\n",
       "       2020.0, 2006.0, 1996.0, 2022.0, 1999.0, 2015.0, 2005.0, 2001.0,\n",
       "       2007.0, 2009.0, 2011.0, 2012.0, 2016.0, 2008.0, 1991.0, 2003.0,\n",
       "       1997.0, 2004.0, 'nan', 2002.0, 1994.0, 1990.0, 1993.0, 1998.0,\n",
       "       1995.0, 1992.0], dtype=object)"
      ]
     },
     "execution_count": 26,
     "metadata": {},
     "output_type": "execute_result"
    }
   ],
   "source": [
    "df['year'].unique()"
   ]
  },
  {
   "cell_type": "code",
   "execution_count": 27,
   "metadata": {},
   "outputs": [
    {
     "data": {
      "text/plain": [
       "array([1.3000e+03, 1.8000e+03, 6.6000e+02, 7.9600e+02, 2.4000e+03,\n",
       "       1.0000e+03, 3.5000e+03, 1.7980e+03, 1.5000e+03, 2.0000e+03,\n",
       "       9.9600e+02, 1.9990e+03, 1.6000e+03, 1.5980e+03, 1.2420e+03,\n",
       "       4.0000e+03, 3.0000e+03, 2.7000e+03, 8.0000e+02, 2.8000e+03,\n",
       "       6.5800e+02, 9.9800e+02, 9.9900e+02, 1.2000e+03, 3.3780e+03,\n",
       "       1.7990e+03, 1.4980e+03, 4.6080e+03, 1.2990e+03, 3.4700e+03,\n",
       "       2.5000e+03, 6.5900e+02, 1.4990e+03, 3.4000e+03, 5.6630e+03,\n",
       "       3.4790e+03, 1.4960e+03, 4.6000e+03, 2.1980e+03, 2.4970e+03,\n",
       "       1.1990e+03, 1.4900e+03, 2.2000e+03, 2.3000e+03, 1.9730e+03,\n",
       "       4.2000e+03, 1.1000e+03, 1.3680e+03, 2.3590e+03, 1.4000e+03,\n",
       "       8.5000e+01, 1.9970e+03, 1.1980e+03, 5.7000e+03, 1.2000e+02,\n",
       "       1.4970e+03, 1.1970e+03, 1.5910e+03, 5.5000e+03, 1.2400e+03,\n",
       "       3.1990e+03, 1.7940e+03, 4.7000e+03, 3.3000e+03, 4.9650e+03,\n",
       "       4.3000e+03, 2.7990e+03, 1.0000e+02, 1.0100e+02, 3.2000e+03,\n",
       "       2.4870e+03, 4.4000e+03, 4.1640e+03, 2.7550e+03, 1.3000e+04,\n",
       "       8.0000e+01, 1.0800e+02, 2.6000e+03, 1.9000e+03, 2.1000e+03,\n",
       "       5.0000e+03, 1.7970e+03, 9.5000e+01, 6.0000e+01, 9.9300e+02,\n",
       "       1.9840e+03, 9.3000e+01, 6.3000e+03, 5.9800e+02, 6.0000e+02,\n",
       "       1.3230e+03, 7.5000e+01, 6.2000e+03, 7.7440e+03, 4.9000e+01,\n",
       "       2.0000e+01, 4.9340e+01, 2.5970e+03, 3.4300e+03, 5.4960e+03,\n",
       "       4.0000e+01, 4.7000e+02, 4.5000e+03, 4.7990e+03, 7.0000e+02,\n",
       "       1.0860e+03, 2.0000e+02, 3.3420e+03, 3.4960e+03, 1.9810e+03,\n",
       "       4.8000e+03, 1.9910e+03, 5.5000e+01, 6.6000e+03, 2.1840e+03,\n",
       "       2.3000e+02, 1.7000e+03, 9.4000e+01, 1.0400e+02, 1.9680e+03,\n",
       "       3.9540e+03, 2.9000e+03, 4.4760e+03, 4.5000e+01, 5.6000e+03,\n",
       "       4.2000e+02, 6.5000e+01, 6.6000e+01, 3.6000e+03, 5.4000e+03,\n",
       "       1.0170e+02, 5.3000e+03, 3.9000e+03, 3.9500e+03, 4.6630e+03,\n",
       "       7.7000e+01, 3.4450e+03, 1.3300e+04, 3.7000e+03, 6.2080e+03,\n",
       "       8.3000e+01, 5.4610e+03, 9.0000e+02, 2.4500e+02, 8.6000e+02,\n",
       "       9.9700e+02, 3.3110e+03, 2.1990e+03, 3.1000e+03, 1.5000e+02,\n",
       "       2.9990e+03, 1.4983e+04, 2.9420e+03, 4.4500e+01, 2.1710e+03,\n",
       "       4.1470e+03, 6.0000e+03, 4.4520e+03, 3.4500e+03, 1.6780e+03,\n",
       "       9.3400e+01, 7.9900e+03, 5.0000e+02, 3.0000e+02, 7.6000e+01,\n",
       "       4.4000e+01, 8.7000e+02, 8.3700e+01, 5.3900e+02, 1.5000e+04,\n",
       "       3.9560e+03, 9.1000e+01, 1.9860e+03, 1.2300e+02, 4.1000e+03,\n",
       "       3.8000e+03, 6.9900e+02, 1.0000e+04, 7.7400e+01, 1.2500e+03,\n",
       "       8.2000e+01, 2.3190e+03, 3.9960e+03, 8.8880e+03, 1.5800e+03,\n",
       "       8.8800e+02, 6.5700e+02, 3.6040e+03, 7.3800e+01, 3.1980e+03,\n",
       "       2.3980e+03, 8.8000e+02, 1.0001e+04, 7.5000e+02, 1.1110e+03,\n",
       "       1.2345e+04, 9.5000e+02, 2.2200e+02, 2.3040e+03, 1.2905e+04,\n",
       "       5.5840e+03, 3.1500e+03, 4.9990e+03, 2.2000e+01, 6.8000e+03,\n",
       "       6.6030e+03, 3.5000e+02, 5.0000e+01, 8.0500e+03, 3.1450e+03,\n",
       "       5.4380e+03, 7.1000e+01, 2.5650e+03, 2.7710e+03, 4.0000e+02,\n",
       "       3.2980e+03, 2.4000e+02, 1.6990e+03, 6.6060e+03, 1.7000e+01,\n",
       "       9.3000e+02, 3.0000e+00, 1.3000e+02, 1.6680e+03, 8.0000e+03,\n",
       "       2.2000e+02, 1.4000e+04, 4.1630e+03, 7.9610e+03])"
      ]
     },
     "execution_count": 27,
     "metadata": {},
     "output_type": "execute_result"
    }
   ],
   "source": [
    "df['engine'].unique()"
   ]
  },
  {
   "cell_type": "code",
   "execution_count": 28,
   "metadata": {},
   "outputs": [
    {
     "data": {
      "text/plain": [
       "array(['Lahore', 'Punjab', 'Islamabad', 'Un-Registered', 'Sindh', 'Swat',\n",
       "       'Karachi', 'Faisalabad', 'Multan', 'Peshawar', 'Rawalpindi',\n",
       "       'Hyderabad', 'Quetta', 'Mirpur A.K.', 'Bahawalpur', 'Kashmir',\n",
       "       'Mingora', 'Toba Tek Singh', 'Gujranwala', 'Sialkot', 'Mardan',\n",
       "       'Mirpur khas', 'Attock', 'Sargodha', 'Qila Deedar Singh',\n",
       "       'Dera ismail khan', 'Bannu', 'Gujrat', 'Sahiwal', 'Rahim Yar Khan',\n",
       "       'Nowshera', 'Abbottabad', 'Sadiqabad', 'Muzaffar Gargh',\n",
       "       'Muzaffarabad', 'Farooqabad', 'Fateh Jang', 'Mian Wali', 'Okara',\n",
       "       'Kohat', 'Sukkur', 'Jhelum', 'Sheikhupura', 'D.G.Khan',\n",
       "       'Nawabshah', 'Mansehra', 'Dir', 'Bahawalnagar', 'Swabi', 'Jhang',\n",
       "       'Lasbela', 'Shorkot', 'Pak pattan sharif', 'Gharo',\n",
       "       'Mandi bahauddin', 'Adda jahan khan', 'Larkana', 'Gilgit',\n",
       "       'Charsadda', 'Karak', 'Zafarwal', 'Thatta', 'Gujar Khan',\n",
       "       'Chiniot', 'Vehari', 'Chakwal', 'Bhakkar', 'Khanewal',\n",
       "       'Abdul Hakeem', 'Buner', 'Tando Allah Yar', 'Malakand Agency',\n",
       "       'Haripur', 'Kasur', 'Kotli Ak', 'Sara-E-Alamgir', 'Phalia',\n",
       "       'Chishtian', 'Jandanwala', 'Wah cantt', 'Hazro', 'Wazirabad',\n",
       "       'Kharian', 'Iskandarabad', 'Jatoi', 'Daska', 'Pir mahal', 'Badin',\n",
       "       'Lower Dir', 'Hafizabad', 'Khushab', 'Narowal', 'Bhai pheru',\n",
       "       'Ghazi', 'Layyah', 'Lakki marwat', 'Pindi gheb', 'Pattoki', 'Dina',\n",
       "       'Hangu', 'Skardu', 'Sibi', 'Haroonabad', 'Adda shaiwala',\n",
       "       'Basirpur', 'Jacobabad', 'Batang', 'Balakot', 'Kotla', 'Sajawal',\n",
       "       'Kamoke', 'Burewala', 'Rawalakot', 'Dera Allah Yar', 'Mian Channu',\n",
       "       'Noshero Feroze', 'Ahmed Pur East', 'Hattar', 'Arifwala',\n",
       "       'Akora khattak', 'Hunza'], dtype=object)"
      ]
     },
     "execution_count": 28,
     "metadata": {},
     "output_type": "execute_result"
    }
   ],
   "source": [
    "df['registered'].unique()"
   ]
  },
  {
   "cell_type": "code",
   "execution_count": 29,
   "metadata": {},
   "outputs": [
    {
     "data": {
      "text/plain": [
       "array([145000, 230000,  60500, ..., 139930,  76357,  29164], dtype=int64)"
      ]
     },
     "execution_count": 29,
     "metadata": {},
     "output_type": "execute_result"
    }
   ],
   "source": [
    "df['mileage'].unique()"
   ]
  },
  {
   "cell_type": "code",
   "execution_count": 30,
   "metadata": {},
   "outputs": [
    {
     "data": {
      "text/plain": [
       "array([2870000.,  995000., 3585000., ..., 8031000.,  663000., 6385000.])"
      ]
     },
     "execution_count": 30,
     "metadata": {},
     "output_type": "execute_result"
    }
   ],
   "source": [
    "df['price'].unique()"
   ]
  },
  {
   "cell_type": "code",
   "execution_count": 31,
   "metadata": {},
   "outputs": [
    {
     "data": {
      "text/plain": [
       "count      77877.000000\n",
       "mean       91107.794509\n",
       "std        89275.056609\n",
       "min            1.000000\n",
       "25%        34000.000000\n",
       "50%        80000.000000\n",
       "75%       123456.000000\n",
       "max      1000000.000000\n",
       "Name: mileage, dtype: float64"
      ]
     },
     "execution_count": 31,
     "metadata": {},
     "output_type": "execute_result"
    }
   ],
   "source": [
    "df.mileage.describe()"
   ]
  },
  {
   "cell_type": "code",
   "execution_count": 32,
   "metadata": {},
   "outputs": [
    {
     "data": {
      "text/plain": [
       "count    7.787700e+04\n",
       "mean     3.854183e+06\n",
       "std      5.747670e+06\n",
       "min      0.000000e+00\n",
       "25%      1.420000e+06\n",
       "50%      2.680000e+06\n",
       "75%      4.500000e+06\n",
       "max      5.290000e+08\n",
       "Name: price, dtype: float64"
      ]
     },
     "execution_count": 32,
     "metadata": {},
     "output_type": "execute_result"
    }
   ],
   "source": [
    "df.price.describe()"
   ]
  },
  {
   "cell_type": "markdown",
   "metadata": {},
   "source": [
    "## Observation 4\n",
    "#### 1. We have various category of prices of cars as follows:\n",
    "\n",
    "- 100,000 - 2,000,000\n",
    "- 2,000,000 - 5,000,000\n",
    "- 5,000,000 - 8,000,000\n",
    "- 8,000,000 - 10,000,000\n",
    "- 10,000,000 - 50,000,000\n",
    "- 50,000,000 - 100,000,000\n",
    "- 100,000,000 - 150,000,000\n",
    "- 150,000,000 - 200,000,000\n",
    "- 200,000,000 - 250,000,000\n",
    "- 250,000,000 - 300,000,000\n",
    "- 300,000,000 - 350,000,000\n",
    "- 350,000,000 - 400,000,000\n",
    "- 400,000,000 - 450,000,000\n",
    "- 450,000,000 - 500,000,000\n",
    "- 500,000,000 - 550,000,000\n",
    "\n",
    "Now, we makes these categories to a simple 15 readable Class of purchasing for better understanding:\n",
    "\n",
    "- < 2,000,000 15th class of purching\n",
    "- < 5,000,000 14th class of purching\n",
    "- < 8,000,000 13th class of purching\n",
    "- < 10,000,000 12th class of purching\n",
    "- < 50,000,000 11th class of purching\n",
    "- < 100,000,000 10th class of purching\n",
    "- < 150,000,000 9th class of purching\n",
    "- < 200,000,000 8th class of purching\n",
    "- < 250,000,000 7th class of purching\n",
    "- < 300,000,000 6th class of purching\n",
    "- < 350,000,000 5th class of purching\n",
    "- < 400,000,000 4th class of purching\n",
    "- < 450,000,000 3rd class of purching\n",
    "- < 500,000,000 2nd class of purching\n",
    "- < 550,000,000 1st class of purching"
   ]
  },
  {
   "cell_type": "code",
   "execution_count": 33,
   "metadata": {},
   "outputs": [],
   "source": [
    "dfprice = df[\"price\"].replace(\"<= 2000000\",\"<= 2,000,000 15th class of purching\")\n",
    "dfprice = df[\"price\"].replace(\"<= 5000000\",\"<= 5,000,000 14th class of purching\")\n",
    "dfprice = df[\"price\"].replace(\"<= 8000000\",\"<= 8,000,000 13th class of purching\")\n",
    "dfprice = df[\"price\"].replace(\"<= 10000000\",\"<= 10,000,000 12th class of purching\")\n",
    "dfprice = df[\"price\"].replace(\"<= 50000000\",\"<= 50,000,000 11th class of purching\")\n",
    "dfprice = df[\"price\"].replace(\"<= 100000000\",\"<= 100,000,000 10th class of purching\")\n",
    "dfprice = df[\"price\"].replace(\"<= 150000000\",\"<= 150,000,000 9th class of purching\")\n",
    "dfprice = df[\"price\"].replace(\"<= 200000000\",\"<= 200,000,000 8th class of purching\")\n",
    "dfprice = df[\"price\"].replace(\"<= 250000000\",\"<= 250,000,000 7th class of purching\")\n",
    "dfprice = df[\"price\"].replace(\"<= 300000000\",\"<= 300,000,000 6th class of purching\")\n",
    "dfprice = df[\"price\"].replace(\"<= 350000000\",\"<= 350,000,000 5th class of purching\")\n",
    "dfprice = df[\"price\"].replace(\"<= 400000000\",\"<= 400,000,000 4th class of purching\")\n",
    "dfprice = df[\"price\"].replace(\"<= 450000000\",\"<= 450,000,000 3rd class of purching\")\n",
    "dfprice = df[\"price\"].replace(\"<= 500000000\",\"<= 500,000,000 2nd class of purching\")\n",
    "dfprice = df[\"price\"].replace(\"<= 550000000\",\"<= 550,000,000 1st class of purching\")\n",
    "\n",
    "\n",
    "  "
   ]
  },
  {
   "cell_type": "code",
   "execution_count": 34,
   "metadata": {},
   "outputs": [],
   "source": [
    "df['price_class'] = dfprice"
   ]
  },
  {
   "cell_type": "code",
   "execution_count": 35,
   "metadata": {},
   "outputs": [
    {
     "data": {
      "text/plain": [
       "Index(['city', 'assembly', 'body', 'make', 'model', 'year', 'engine',\n",
       "       'transmission', 'fuel', 'color', 'registered', 'mileage', 'price',\n",
       "       'price_class'],\n",
       "      dtype='object')"
      ]
     },
     "execution_count": 35,
     "metadata": {},
     "output_type": "execute_result"
    }
   ],
   "source": [
    "df.columns"
   ]
  },
  {
   "cell_type": "code",
   "execution_count": 36,
   "metadata": {},
   "outputs": [
    {
     "data": {
      "text/plain": [
       "price_class\n",
       "2500000.0    703\n",
       "3500000.0    663\n",
       "4500000.0    637\n",
       "0.0          583\n",
       "2200000.0    577\n",
       "            ... \n",
       "1321000.0      1\n",
       "2242000.0      1\n",
       "2109000.0      1\n",
       "4179000.0      1\n",
       "6385000.0      1\n",
       "Name: count, Length: 2324, dtype: int64"
      ]
     },
     "execution_count": 36,
     "metadata": {},
     "output_type": "execute_result"
    }
   ],
   "source": [
    "df['price_class'].value_counts()"
   ]
  },
  {
   "cell_type": "code",
   "execution_count": 37,
   "metadata": {},
   "outputs": [
    {
     "data": {
      "text/html": [
       "<div>\n",
       "<style scoped>\n",
       "    .dataframe tbody tr th:only-of-type {\n",
       "        vertical-align: middle;\n",
       "    }\n",
       "\n",
       "    .dataframe tbody tr th {\n",
       "        vertical-align: top;\n",
       "    }\n",
       "\n",
       "    .dataframe thead th {\n",
       "        text-align: right;\n",
       "    }\n",
       "</style>\n",
       "<table border=\"1\" class=\"dataframe\">\n",
       "  <thead>\n",
       "    <tr style=\"text-align: right;\">\n",
       "      <th></th>\n",
       "      <th>city</th>\n",
       "      <th>assembly</th>\n",
       "      <th>body</th>\n",
       "      <th>make</th>\n",
       "      <th>model</th>\n",
       "      <th>year</th>\n",
       "      <th>engine</th>\n",
       "      <th>transmission</th>\n",
       "      <th>fuel</th>\n",
       "      <th>color</th>\n",
       "      <th>registered</th>\n",
       "      <th>mileage</th>\n",
       "      <th>price</th>\n",
       "      <th>price_class</th>\n",
       "    </tr>\n",
       "  </thead>\n",
       "  <tbody>\n",
       "    <tr>\n",
       "      <th>0</th>\n",
       "      <td>Peshawar</td>\n",
       "      <td>nan</td>\n",
       "      <td>Sedan</td>\n",
       "      <td>Toyota</td>\n",
       "      <td>Corolla</td>\n",
       "      <td>2013.0</td>\n",
       "      <td>1300.0</td>\n",
       "      <td>Manual</td>\n",
       "      <td>Petrol</td>\n",
       "      <td>Silver Metallic</td>\n",
       "      <td>Lahore</td>\n",
       "      <td>145000</td>\n",
       "      <td>2870000.0</td>\n",
       "      <td>2870000.0</td>\n",
       "    </tr>\n",
       "    <tr>\n",
       "      <th>1</th>\n",
       "      <td>Lahore</td>\n",
       "      <td>nan</td>\n",
       "      <td>Sedan</td>\n",
       "      <td>Honda</td>\n",
       "      <td>City</td>\n",
       "      <td>2000.0</td>\n",
       "      <td>1300.0</td>\n",
       "      <td>Manual</td>\n",
       "      <td>Petrol</td>\n",
       "      <td>Blue</td>\n",
       "      <td>Lahore</td>\n",
       "      <td>230000</td>\n",
       "      <td>995000.0</td>\n",
       "      <td>995000.0</td>\n",
       "    </tr>\n",
       "    <tr>\n",
       "      <th>2</th>\n",
       "      <td>Lahore</td>\n",
       "      <td>nan</td>\n",
       "      <td>Sedan</td>\n",
       "      <td>Toyota</td>\n",
       "      <td>Yaris</td>\n",
       "      <td>2021.0</td>\n",
       "      <td>1300.0</td>\n",
       "      <td>Manual</td>\n",
       "      <td>Petrol</td>\n",
       "      <td>Super White</td>\n",
       "      <td>Punjab</td>\n",
       "      <td>60500</td>\n",
       "      <td>3585000.0</td>\n",
       "      <td>3585000.0</td>\n",
       "    </tr>\n",
       "    <tr>\n",
       "      <th>3</th>\n",
       "      <td>Lahore</td>\n",
       "      <td>nan</td>\n",
       "      <td>Hatchback</td>\n",
       "      <td>Suzuki</td>\n",
       "      <td>Swift</td>\n",
       "      <td>2017.0</td>\n",
       "      <td>1300.0</td>\n",
       "      <td>Manual</td>\n",
       "      <td>Petrol</td>\n",
       "      <td>Grey</td>\n",
       "      <td>Islamabad</td>\n",
       "      <td>87000</td>\n",
       "      <td>2250000.0</td>\n",
       "      <td>2250000.0</td>\n",
       "    </tr>\n",
       "    <tr>\n",
       "      <th>4</th>\n",
       "      <td>Lahore</td>\n",
       "      <td>nan</td>\n",
       "      <td>Sedan</td>\n",
       "      <td>Honda</td>\n",
       "      <td>Civic</td>\n",
       "      <td>2017.0</td>\n",
       "      <td>1800.0</td>\n",
       "      <td>Automatic</td>\n",
       "      <td>Petrol</td>\n",
       "      <td>Grey</td>\n",
       "      <td>Lahore</td>\n",
       "      <td>86000</td>\n",
       "      <td>4850000.0</td>\n",
       "      <td>4850000.0</td>\n",
       "    </tr>\n",
       "  </tbody>\n",
       "</table>\n",
       "</div>"
      ],
      "text/plain": [
       "       city assembly       body    make    model    year  engine transmission  \\\n",
       "0  Peshawar      nan      Sedan  Toyota  Corolla  2013.0  1300.0       Manual   \n",
       "1    Lahore      nan      Sedan   Honda     City  2000.0  1300.0       Manual   \n",
       "2    Lahore      nan      Sedan  Toyota    Yaris  2021.0  1300.0       Manual   \n",
       "3    Lahore      nan  Hatchback  Suzuki    Swift  2017.0  1300.0       Manual   \n",
       "4    Lahore      nan      Sedan   Honda    Civic  2017.0  1800.0    Automatic   \n",
       "\n",
       "     fuel            color registered  mileage      price  price_class  \n",
       "0  Petrol  Silver Metallic     Lahore   145000  2870000.0    2870000.0  \n",
       "1  Petrol             Blue     Lahore   230000   995000.0     995000.0  \n",
       "2  Petrol      Super White     Punjab    60500  3585000.0    3585000.0  \n",
       "3  Petrol             Grey  Islamabad    87000  2250000.0    2250000.0  \n",
       "4  Petrol             Grey     Lahore    86000  4850000.0    4850000.0  "
      ]
     },
     "execution_count": 37,
     "metadata": {},
     "output_type": "execute_result"
    }
   ],
   "source": [
    "df.head()"
   ]
  },
  {
   "cell_type": "code",
   "execution_count": 38,
   "metadata": {},
   "outputs": [
    {
     "data": {
      "text/plain": [
       "array([2870000.,  995000., 3585000., ..., 8031000.,  663000., 6385000.])"
      ]
     },
     "execution_count": 38,
     "metadata": {},
     "output_type": "execute_result"
    }
   ],
   "source": [
    "dfprice.unique()"
   ]
  },
  {
   "cell_type": "code",
   "execution_count": 39,
   "metadata": {},
   "outputs": [
    {
     "name": "stderr",
     "output_type": "stream",
     "text": [
      "C:\\Users\\Lenovo x260\\AppData\\Local\\Temp\\ipykernel_12704\\82765228.py:2: FutureWarning: Setting an item of incompatible dtype is deprecated and will raise in a future error of pandas. Value 'Less than = 2 Million' has dtype incompatible with float64, please explicitly cast to a compatible dtype first.\n",
      "  df.loc[(df['price'] > 100000) & (df['price'] <= 2000000.0),'price_class'] = 'Less than = 2 Million'\n"
     ]
    },
    {
     "data": {
      "text/plain": [
       "price_class\n",
       "Between 2 Million and 5 Million    33608\n",
       "Less than = 2 Million              27822\n",
       "Between 5 Million and 8 Million     9916\n",
       "Between 10 Crore and 15 Crore       3522\n",
       "Between 8 Million and 1 Crore       2422\n",
       "0.0                                  583\n",
       "Between 15 Crore and 20 Crore          3\n",
       "Between 50 Crore and 55 Crore          1\n",
       "Name: count, dtype: int64"
      ]
     },
     "execution_count": 39,
     "metadata": {},
     "output_type": "execute_result"
    }
   ],
   "source": [
    "df['price_class']\n",
    "df.loc[(df['price'] > 100000) & (df['price'] <= 2000000.0),'price_class'] = 'Less than = 2 Million'\n",
    "df.loc[(df['price'] > 2000000) & (df['price'] <= 5000000.0),'price_class'] = 'Between 2 Million and 5 Million'\n",
    "df.loc[(df['price'] > 5000000) & (df['price'] <= 8000000),'price_class'] = 'Between 5 Million and 8 Million'\n",
    "df.loc[(df['price'] > 8000000) & (df['price'] <= 10000000),'price_class'] = 'Between 8 Million and 1 Crore'\n",
    "df.loc[(df['price'] > 10000000) & (df['price'] <= 50000000.0),'price_class'] = 'Between 1 Crore and 5 Crore'\n",
    "df.loc[(df['price'] > 50000000) & (df['price'] <= 100000000.0),'price_class'] = 'Between 5 Crore and 10 Crore'\n",
    "df.loc[(df['price'] > 10000000) & (df['price'] <= 150000000),'price_class'] = 'Between 10 Crore and 15 Crore'\n",
    "df.loc[(df['price'] > 150000000) & (df['price'] <= 200000000),'price_class'] = 'Between 15 Crore and 20 Crore'\n",
    "df.loc[(df['price'] > 200000000) & (df['price'] <= 250000000.0),'price_class'] = 'Between 20 Crore and 25 Crore'\n",
    "df.loc[(df['price'] > 250000000) & (df['price'] <= 300000000.0),'price_class'] = 'Between 25 Crore and 30 Crore'\n",
    "df.loc[(df['price'] > 300000000) & (df['price'] <= 350000000),'price_class'] = 'Between 30 Crore and 35 Crore'\n",
    "df.loc[(df['price'] > 350000000) & (df['price'] <= 400000000),'price_class'] = 'Between 35 Crore and 40 Crore'\n",
    "df.loc[(df['price'] > 400000000) & (df['price'] <= 450000000.0),'price_class'] = 'Between 40 Crore and 45 Crore'\n",
    "df.loc[(df['price'] > 450000000) & (df['price'] <= 500000000.0),'price_class'] = 'Between 45 Crore 50 Crore'\n",
    "df.loc[(df['price'] > 500000000) & (df['price'] <= 550000000),'price_class'] = 'Between 50 Crore and 55 Crore'\n",
    "\n",
    "df['price_class'].value_counts()"
   ]
  },
  {
   "cell_type": "markdown",
   "metadata": {},
   "source": [
    "**Note:** After Binning of the price column it's showing the most frequent range of price is \"Between 2 Million and 5 Million\" Hence we can say, this is preferable range of purchasing car in Pakistan "
   ]
  },
  {
   "cell_type": "markdown",
   "metadata": {},
   "source": [
    "## 6.0 Question and Aswers :\n",
    "We are going to pose following questions against the dataset:\n",
    "1. What is the most frequent range of purchasing car in pakistan?\n",
    "2. Which top five car' companies are prefered  in Pakistan?\n",
    "3. which are the top ten preferable engines (cc) in pakistan?\n",
    "4. In which range of years did Toyota company sell the highest number of cars?\n",
    "5. Which top three models are being consumed in Pakistan of the top first preferable manufacturing company?\n",
    "6. which fuel type is more frequent in Pakistan?"
   ]
  },
  {
   "cell_type": "markdown",
   "metadata": {},
   "source": [
    "**Q.1:** What is the most frequent range of purchasing car in pakistan?"
   ]
  },
  {
   "cell_type": "code",
   "execution_count": 40,
   "metadata": {},
   "outputs": [
    {
     "data": {
      "text/plain": [
       "price_class\n",
       "Between 2 Million and 5 Million    33608\n",
       "Less than = 2 Million              27822\n",
       "Between 5 Million and 8 Million     9916\n",
       "Between 10 Crore and 15 Crore       3522\n",
       "Between 8 Million and 1 Crore       2422\n",
       "0.0                                  583\n",
       "Between 15 Crore and 20 Crore          3\n",
       "Between 50 Crore and 55 Crore          1\n",
       "Name: count, dtype: int64"
      ]
     },
     "execution_count": 40,
     "metadata": {},
     "output_type": "execute_result"
    }
   ],
   "source": [
    "df['price_class']\n",
    "df.loc[(df['price'] > 100000) & (df['price'] <= 2000000.0),'price_class'] = 'Less than = 2 Million'\n",
    "df.loc[(df['price'] > 2000000) & (df['price'] <= 5000000.0),'price_class'] = 'Between 2 Million and 5 Million'\n",
    "df.loc[(df['price'] > 5000000) & (df['price'] <= 8000000),'price_class'] = 'Between 5 Million and 8 Million'\n",
    "df.loc[(df['price'] > 8000000) & (df['price'] <= 10000000),'price_class'] = 'Between 8 Million and 1 Crore'\n",
    "df.loc[(df['price'] > 10000000) & (df['price'] <= 50000000.0),'price_class'] = 'Between 1 Crore and 5 Crore'\n",
    "df.loc[(df['price'] > 50000000) & (df['price'] <= 100000000.0),'price_class'] = 'Between 5 Crore and 10 Crore'\n",
    "df.loc[(df['price'] > 10000000) & (df['price'] <= 150000000),'price_class'] = 'Between 10 Crore and 15 Crore'\n",
    "df.loc[(df['price'] > 150000000) & (df['price'] <= 200000000),'price_class'] = 'Between 15 Crore and 20 Crore'\n",
    "df.loc[(df['price'] > 200000000) & (df['price'] <= 250000000.0),'price_class'] = 'Between 20 Crore and 25 Crore'\n",
    "df.loc[(df['price'] > 250000000) & (df['price'] <= 300000000.0),'price_class'] = 'Between 25 Crore and 30 Crore'\n",
    "df.loc[(df['price'] > 300000000) & (df['price'] <= 350000000),'price_class'] = 'Between 30 Crore and 35 Crore'\n",
    "df.loc[(df['price'] > 350000000) & (df['price'] <= 400000000),'price_class'] = 'Between 35 Crore and 40 Crore'\n",
    "df.loc[(df['price'] > 400000000) & (df['price'] <= 450000000.0),'price_class'] = 'Between 40 Crore and 45 Crore'\n",
    "df.loc[(df['price'] > 450000000) & (df['price'] <= 500000000.0),'price_class'] = 'Between 45 Crore 50 Crore'\n",
    "df.loc[(df['price'] > 500000000) & (df['price'] <= 550000000),'price_class'] = 'Between 50 Crore and 55 Crore'\n",
    "\n",
    "df['price_class'].value_counts()"
   ]
  },
  {
   "cell_type": "code",
   "execution_count": 41,
   "metadata": {},
   "outputs": [
    {
     "data": {
      "image/png": "[encoded data removed]",
      "text/plain": [
       "<Figure size 1000x600 with 1 Axes>"
      ]
     },
     "metadata": {},
     "output_type": "display_data"
    }
   ],
   "source": [
    "import matplotlib.pyplot as plt\n",
    "\n",
    "# Calculate value counts of 'price_class'\n",
    "price_class_counts = df['price_class'].value_counts()\n",
    "\n",
    "# Set custom plot style\n",
    "plt.style.use('ggplot')\n",
    "\n",
    "# Create a bar plot with yellow color\n",
    "plt.figure(figsize=(10, 6))\n",
    "price_class_counts.plot(kind='bar', color='green')\n",
    "\n",
    "# Set plot labels and title\n",
    "plt.xlabel('Price Class')\n",
    "plt.ylabel('Count')\n",
    "plt.title('Distribution of Price Classes')\n",
    "\n",
    "# Rotate x-axis labels for better readability\n",
    "plt.xticks(rotation=45)\n",
    "\n",
    "# Display the plot\n",
    "plt.show()"
   ]
  },
  {
   "cell_type": "markdown",
   "metadata": {},
   "source": [
    "***figure 3:*** Showing the distribution of price ranges"
   ]
  },
  {
   "cell_type": "markdown",
   "metadata": {},
   "source": [
    "**Answer 1:** After Binning of the price column it's showing the most frequent range of price is \"Between 2 Million and 5 Million\" Hence we can say, this is preferable range of purchasing car in Pakistan "
   ]
  },
  {
   "cell_type": "markdown",
   "metadata": {},
   "source": [
    "**Q.2:** Which top five cars' companies  are prefered  in Pakistan?"
   ]
  },
  {
   "cell_type": "code",
   "execution_count": 42,
   "metadata": {},
   "outputs": [],
   "source": [
    "# Calculate the count of car makers\n",
    "top_companies = df['make'].value_counts().reset_index().rename(columns={'index': 'make', 'make': 'make'})\n",
    "top5_selling_makers = top_companies.head(5)\n"
   ]
  },
  {
   "cell_type": "code",
   "execution_count": 43,
   "metadata": {},
   "outputs": [
    {
     "data": {
      "text/html": [
       "<div>\n",
       "<style scoped>\n",
       "    .dataframe tbody tr th:only-of-type {\n",
       "        vertical-align: middle;\n",
       "    }\n",
       "\n",
       "    .dataframe tbody tr th {\n",
       "        vertical-align: top;\n",
       "    }\n",
       "\n",
       "    .dataframe thead th {\n",
       "        text-align: right;\n",
       "    }\n",
       "</style>\n",
       "<table border=\"1\" class=\"dataframe\">\n",
       "  <thead>\n",
       "    <tr style=\"text-align: right;\">\n",
       "      <th></th>\n",
       "      <th>make</th>\n",
       "      <th>count</th>\n",
       "    </tr>\n",
       "  </thead>\n",
       "  <tbody>\n",
       "    <tr>\n",
       "      <th>0</th>\n",
       "      <td>Toyota</td>\n",
       "      <td>24909</td>\n",
       "    </tr>\n",
       "    <tr>\n",
       "      <th>1</th>\n",
       "      <td>Suzuki</td>\n",
       "      <td>22347</td>\n",
       "    </tr>\n",
       "    <tr>\n",
       "      <th>2</th>\n",
       "      <td>Honda</td>\n",
       "      <td>16428</td>\n",
       "    </tr>\n",
       "    <tr>\n",
       "      <th>3</th>\n",
       "      <td>Daihatsu</td>\n",
       "      <td>3181</td>\n",
       "    </tr>\n",
       "    <tr>\n",
       "      <th>4</th>\n",
       "      <td>KIA</td>\n",
       "      <td>1764</td>\n",
       "    </tr>\n",
       "  </tbody>\n",
       "</table>\n",
       "</div>"
      ],
      "text/plain": [
       "       make  count\n",
       "0    Toyota  24909\n",
       "1    Suzuki  22347\n",
       "2     Honda  16428\n",
       "3  Daihatsu   3181\n",
       "4       KIA   1764"
      ]
     },
     "execution_count": 43,
     "metadata": {},
     "output_type": "execute_result"
    }
   ],
   "source": [
    "top5_selling_makers\n"
   ]
  },
  {
   "cell_type": "code",
   "execution_count": 44,
   "metadata": {},
   "outputs": [
    {
     "data": {
      "image/png": "[encoded data removed]",
      "text/plain": [
       "<Figure size 2000x600 with 1 Axes>"
      ]
     },
     "metadata": {},
     "output_type": "display_data"
    }
   ],
   "source": [
    "# Create the bar plot\n",
    "# plt.figure(figsize=(10, 6))\n",
    "plt.bar(top5_selling_makers['make'], top5_selling_makers['count'], color='blue')\n",
    "plt.xlabel('Car Makers')\n",
    "plt.ylabel('Count')\n",
    "plt.title('Top 5 Car Makers')\n",
    "\n",
    "# Rotate x-axis labels for better readability\n",
    "plt.xticks(rotation=45)\n",
    "\n",
    "# Display the plot\n",
    "plt.show()"
   ]
  },
  {
   "cell_type": "markdown",
   "metadata": {},
   "source": [
    "***figure 4:*** Showing top five car selling companies and their count"
   ]
  },
  {
   "cell_type": "markdown",
   "metadata": {},
   "source": [
    "**Answer 2:** According to Pak wheel data the count and plot is showing the top five car selling makers/companies of Pakistan."
   ]
  },
  {
   "cell_type": "markdown",
   "metadata": {},
   "source": [
    "**Q.3:** Which engine is more consuming/preferable engine in Pakistan?"
   ]
  },
  {
   "cell_type": "code",
   "execution_count": 45,
   "metadata": {},
   "outputs": [],
   "source": [
    "# Calculating the count of preferable car engines\n",
    "top_engines = df['engine'].value_counts().reset_index().rename(columns={'index': 'engine', 'make': 'engine'})\n",
    "top10_prefered_engines = top_engines.head(10)\n"
   ]
  },
  {
   "cell_type": "code",
   "execution_count": 46,
   "metadata": {},
   "outputs": [
    {
     "data": {
      "text/html": [
       "<div>\n",
       "<style scoped>\n",
       "    .dataframe tbody tr th:only-of-type {\n",
       "        vertical-align: middle;\n",
       "    }\n",
       "\n",
       "    .dataframe tbody tr th {\n",
       "        vertical-align: top;\n",
       "    }\n",
       "\n",
       "    .dataframe thead th {\n",
       "        text-align: right;\n",
       "    }\n",
       "</style>\n",
       "<table border=\"1\" class=\"dataframe\">\n",
       "  <thead>\n",
       "    <tr style=\"text-align: right;\">\n",
       "      <th></th>\n",
       "      <th>engine</th>\n",
       "      <th>count</th>\n",
       "    </tr>\n",
       "  </thead>\n",
       "  <tbody>\n",
       "    <tr>\n",
       "      <th>0</th>\n",
       "      <td>1300.0</td>\n",
       "      <td>14168</td>\n",
       "    </tr>\n",
       "    <tr>\n",
       "      <th>1</th>\n",
       "      <td>1000.0</td>\n",
       "      <td>13143</td>\n",
       "    </tr>\n",
       "    <tr>\n",
       "      <th>2</th>\n",
       "      <td>1500.0</td>\n",
       "      <td>8771</td>\n",
       "    </tr>\n",
       "    <tr>\n",
       "      <th>3</th>\n",
       "      <td>1800.0</td>\n",
       "      <td>8029</td>\n",
       "    </tr>\n",
       "    <tr>\n",
       "      <th>4</th>\n",
       "      <td>660.0</td>\n",
       "      <td>7901</td>\n",
       "    </tr>\n",
       "    <tr>\n",
       "      <th>5</th>\n",
       "      <td>800.0</td>\n",
       "      <td>6066</td>\n",
       "    </tr>\n",
       "    <tr>\n",
       "      <th>6</th>\n",
       "      <td>1600.0</td>\n",
       "      <td>4012</td>\n",
       "    </tr>\n",
       "    <tr>\n",
       "      <th>7</th>\n",
       "      <td>2000.0</td>\n",
       "      <td>1568</td>\n",
       "    </tr>\n",
       "    <tr>\n",
       "      <th>8</th>\n",
       "      <td>796.0</td>\n",
       "      <td>1326</td>\n",
       "    </tr>\n",
       "    <tr>\n",
       "      <th>9</th>\n",
       "      <td>2800.0</td>\n",
       "      <td>1300</td>\n",
       "    </tr>\n",
       "  </tbody>\n",
       "</table>\n",
       "</div>"
      ],
      "text/plain": [
       "   engine  count\n",
       "0  1300.0  14168\n",
       "1  1000.0  13143\n",
       "2  1500.0   8771\n",
       "3  1800.0   8029\n",
       "4   660.0   7901\n",
       "5   800.0   6066\n",
       "6  1600.0   4012\n",
       "7  2000.0   1568\n",
       "8   796.0   1326\n",
       "9  2800.0   1300"
      ]
     },
     "execution_count": 46,
     "metadata": {},
     "output_type": "execute_result"
    }
   ],
   "source": [
    "top10_prefered_engines"
   ]
  },
  {
   "cell_type": "code",
   "execution_count": 47,
   "metadata": {},
   "outputs": [
    {
     "data": {
      "image/png": "[encoded data removed]",
      "text/plain": [
       "<Figure size 1000x600 with 1 Axes>"
      ]
     },
     "metadata": {},
     "output_type": "display_data"
    }
   ],
   "source": [
    "import matplotlib.pyplot as plt\n",
    "\n",
    "# Create the pie chart\n",
    "plt.figure(figsize=(10, 6))  # Set the size of the figure\n",
    "\n",
    "# Data for the pie chart\n",
    "labels = top10_prefered_engines['engine']\n",
    "sizes = top10_prefered_engines['count']\n",
    "colors = ['red', 'green', 'blue', 'yellow', 'orange', 'purple', 'pink', 'cyan', 'magenta', 'gray']\n",
    "\n",
    "# Create the pie chart\n",
    "patches, texts, autotexts = plt.pie(sizes, labels=labels, colors=colors, autopct='%1.1f%%', startangle=90)\n",
    "\n",
    "# Set aspect ratio to be equal so that pie is drawn as a circle\n",
    "plt.axis('equal')\n",
    "\n",
    "# Modify the text labels\n",
    "for text in texts:\n",
    "    text.set_rotation(90)  # Rotate the labels by 90 degrees\n",
    "    text.set_fontsize(8)  # Set the font size for the labels\n",
    "\n",
    "# Modify the percentages\n",
    "for autotext in autotexts:\n",
    "    autotext.set_rotation(90)  # Rotate the percentages by 90 degrees\n",
    "    autotext.set_fontsize(8)  # Set the font size for the percentages\n",
    "\n",
    "# Create a legend on the right-hand side\n",
    "plt.legend(patches, labels, loc=\"center right\", bbox_to_anchor=(1, 0.5))\n",
    "\n",
    "# Add a heading label on the left-hand side\n",
    "plt.text(-1.5, 0.5, 'Top 10 Consuming Engines', fontsize=16, rotation=90, ha='center', va='center')\n",
    "\n",
    "# Adjust the y-axis limits to center the label vertically\n",
    "plt.ylim(-1.1, 1.1)\n",
    "\n",
    "# Display the pie chart\n",
    "plt.show()"
   ]
  },
  {
   "cell_type": "markdown",
   "metadata": {},
   "source": [
    "***figure 5:*** Showing distribution of engines cc according to their consuming or preference"
   ]
  },
  {
   "cell_type": "markdown",
   "metadata": {},
   "source": [
    "**Answer 3:** Through this Pie Chart, we can see the top using Engine of pakistan every single engine in cc has its own color which makes easy to understand engines' consuming. In this pie chart we can exclude easily the most frequently consuming engine that is (1300 cc) with highest percentage of 21.4 % "
   ]
  },
  {
   "cell_type": "markdown",
   "metadata": {},
   "source": [
    "**Q.4:** In which range of years did Toyota company sell the highest number of cars?"
   ]
  },
  {
   "cell_type": "markdown",
   "metadata": {},
   "source": [
    "# Line Plot"
   ]
  },
  {
   "cell_type": "code",
   "execution_count": 71,
   "metadata": {},
   "outputs": [
    {
     "data": {
      "image/png": "[encoded data removed]",
      "text/plain": [
       "<Figure size 2000x600 with 1 Axes>"
      ]
     },
     "metadata": {},
     "output_type": "display_data"
    },
    {
     "data": {
      "text/plain": [
       "<Figure size 2000x600 with 0 Axes>"
      ]
     },
     "metadata": {},
     "output_type": "display_data"
    }
   ],
   "source": [
    "import matplotlib.pyplot as plt\n",
    "\n",
    "# Filter data for Toyota cars\n",
    "toyota_df = df[df['make'] == 'Toyota']\n",
    "\n",
    "# Group by year and count the number of rows\n",
    "yearly_count = toyota_df.groupby('year').size()\n",
    "\n",
    "# Create line plot\n",
    "plt.plot(yearly_count.index, yearly_count.values, color='blue')\n",
    "\n",
    "# Set labels and title\n",
    "plt.xlabel('Year')\n",
    "plt.ylabel('Number of Cars Sold')\n",
    "plt.title('Toyota Car Sales by Year')\n",
    "\n",
    "# Set figure background to white\n",
    "plt.figure(facecolor='white')\n",
    "\n",
    "# Show the plot\n",
    "plt.show()"
   ]
  },
  {
   "cell_type": "markdown",
   "metadata": {},
   "source": [
    "***figure 6:*** showing toyota car sells throughout the period"
   ]
  },
  {
   "cell_type": "markdown",
   "metadata": {},
   "source": [
    "**Answer 4:** Through this Line Chart we can easily recognize the highest sell range in years of corolla company\\\n",
    "that is        (2015-2020)"
   ]
  },
  {
   "cell_type": "markdown",
   "metadata": {},
   "source": [
    "**Q.5:** Which top three models are being consumed in Pakistan of the top first preferable manufacturing company?"
   ]
  },
  {
   "cell_type": "markdown",
   "metadata": {},
   "source": [
    "# Horizontal Stacked Bar Plot:"
   ]
  },
  {
   "cell_type": "code",
   "execution_count": 74,
   "metadata": {},
   "outputs": [
    {
     "data": {
      "image/png": "[encoded data removed]",
      "text/plain": [
       "<Figure size 2000x600 with 1 Axes>"
      ]
     },
     "metadata": {},
     "output_type": "display_data"
    },
    {
     "data": {
      "text/plain": [
       "<Figure size 2000x600 with 0 Axes>"
      ]
     },
     "metadata": {},
     "output_type": "display_data"
    }
   ],
   "source": [
    "import matplotlib.pyplot as plt\n",
    "\n",
    "# Filter data for the past five years\n",
    "recent_years = range(2019, 2024)\n",
    "recent_data = df[df['year'].isin(recent_years)]\n",
    "\n",
    "# Group by model and count the number of rows\n",
    "model_count = recent_data[recent_data['make'] == 'Toyota']['model'].value_counts().head(3)\n",
    "\n",
    "# Filter the data for the top three models\n",
    "top_three_models_data = recent_data[recent_data['model'].isin(model_count.index)]\n",
    "\n",
    "# Group by year and model, count the number of rows\n",
    "model_year_count = top_three_models_data.groupby(['year', 'model']).size().unstack()\n",
    "\n",
    "# Create horizontal stacked bar plot\n",
    "model_year_count.plot(kind='barh', stacked=True)\n",
    "\n",
    "# Set labels and title\n",
    "plt.xlabel('Number of Cars Sold')\n",
    "plt.ylabel('Year')\n",
    "plt.title('Top Three Preferred Toyota Models (Past Five Years)')\n",
    "\n",
    "# Set figure background to white\n",
    "plt.figure(facecolor='white')\n",
    "\n",
    "# Show the plot\n",
    "plt.show()"
   ]
  },
  {
   "cell_type": "markdown",
   "metadata": {},
   "source": [
    "***figure 7:*** showing the top three preferable models of top class car sellig company"
   ]
  },
  {
   "cell_type": "markdown",
   "metadata": {},
   "source": [
    "Answer 5: By the help of Horizontal Stacked Bar, we have awared regarding top three modelsof top lass corolla company/\n",
    "- Number 1 is corolla in all last five years\n",
    "- Number 2 is yaris in 4 years except 2015\n",
    "- Number 3 is fortuner in last 4 years and it's second preferable model of corolla company in the last five year"
   ]
  },
  {
   "cell_type": "markdown",
   "metadata": {},
   "source": []
  },
  {
   "cell_type": "markdown",
   "metadata": {},
   "source": [
    "**Q.6** which fuel type is more frequent in Pakistan?"
   ]
  },
  {
   "cell_type": "code",
   "execution_count": 81,
   "metadata": {},
   "outputs": [
    {
     "name": "stderr",
     "output_type": "stream",
     "text": [
      "C:\\Users\\Lenovo x260\\AppData\\Local\\Temp\\ipykernel_12704\\606642936.py:13: FutureWarning: \n",
      "\n",
      "Passing `palette` without assigning `hue` is deprecated and will be removed in v0.14.0. Assign the `x` variable to `hue` and set `legend=False` for the same effect.\n",
      "\n",
      "  sns.countplot(x='fuel', data=df, palette='Set1')\n"
     ]
    },
    {
     "data": {
      "image/png": "[encoded data removed]",
      "text/plain": [
       "<Figure size 2000x600 with 1 Axes>"
      ]
     },
     "metadata": {},
     "output_type": "display_data"
    }
   ],
   "source": [
    "import matplotlib.pyplot as plt\n",
    "import seaborn as sns\n",
    "\n",
    "# Filter data for the two fuel categories\n",
    "fuel_data_petrol = df[df['fuel'] == 'Petrol']\n",
    "fuel_data_hybrid = df[df['fuel'] == 'Hybrid']\n",
    "\n",
    "# Count the occurrences of each fuel category\n",
    "petrol_count = len(fuel_data_petrol)\n",
    "hybrid_count = len(fuel_data_hybrid)\n",
    "\n",
    "# Create the count plot\n",
    "sns.countplot(x='fuel', data=df, palette='Set1')\n",
    "\n",
    "# Set labels and title\n",
    "plt.xlabel('Fuel Type')\n",
    "plt.ylabel('Count')\n",
    "plt.title('Comparison of Fuel Type (Petrol vs. Hybrid)')\n",
    "\n",
    "# Annotate the count values on the bars\n",
    "plt.text(0, petrol_count + 5, str(petrol_count), ha='center', va='bottom')\n",
    "plt.text(1, hybrid_count + 5, str(hybrid_count), ha='center', va='bottom')\n",
    "\n",
    "# Show the plot\n",
    "plt.show()"
   ]
  },
  {
   "cell_type": "markdown",
   "metadata": {},
   "source": [
    "***figure 8:*** Showing that which fuel type is being more consumed"
   ]
  },
  {
   "cell_type": "markdown",
   "metadata": {},
   "source": [
    "**Answer 6:** The most frequent fuel type is petrol "
   ]
  },
  {
   "cell_type": "code",
   "execution_count": null,
   "metadata": {},
   "outputs": [],
   "source": []
  }
 ],
 "metadata": {
  "kernelspec": {
   "display_name": "Python 3",
   "language": "python",
   "name": "python3"
  },
  "language_info": {
   "codemirror_mode": {
    "name": "ipython",
    "version": 3
   },
   "file_extension": ".py",
   "mimetype": "text/x-python",
   "name": "python",
   "nbconvert_exporter": "python",
   "pygments_lexer": "ipython3",
   "version": "3.12.0"
  }
 },
 "nbformat": 4,
 "nbformat_minor": 2
}
